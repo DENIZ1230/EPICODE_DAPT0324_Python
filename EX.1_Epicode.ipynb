{
 "cells": [
  {
   "cell_type": "code",
   "execution_count": 19,
   "id": "8c892c46-e3d4-4d1b-a2f7-3e9c8f523bbf",
   "metadata": {},
   "outputs": [
    {
     "name": "stdout",
     "output_type": "stream",
     "text": [
      "25\n"
     ]
    }
   ],
   "source": [
    "numero_studenti = 25\n",
    "print(numero_studenti)"
   ]
  },
  {
   "cell_type": "code",
   "execution_count": 21,
   "id": "f6493e1a-4a54-42b0-a23d-6a88d81c96f7",
   "metadata": {},
   "outputs": [
    {
     "name": "stdout",
     "output_type": "stream",
     "text": [
      "3\n"
     ]
    }
   ],
   "source": [
    "nuovi_studenti = 3\n",
    "print(nuovi_studenti)"
   ]
  },
  {
   "cell_type": "code",
   "execution_count": 13,
   "id": "197c03b8-f174-4de1-9c02-5490af29d4aa",
   "metadata": {},
   "outputs": [
    {
     "name": "stdout",
     "output_type": "stream",
     "text": [
      "28\n"
     ]
    }
   ],
   "source": [
    "Totale_studenti = numero_studenti + nuovi_studenti \n",
    "print(Totale_studenti)"
   ]
  },
  {
   "cell_type": "code",
   "execution_count": 23,
   "id": "5beadc41-4d50-4487-b97c-1b8234eb8409",
   "metadata": {},
   "outputs": [
    {
     "name": "stdout",
     "output_type": "stream",
     "text": [
      "Epicode\n"
     ]
    }
   ],
   "source": [
    "nome_scuola = \"Epicode\"\n",
    "print(nome_scuola)"
   ]
  },
  {
   "cell_type": "code",
   "execution_count": 27,
   "id": "9438da1b-54fe-4f63-9eab-777d4c0d168c",
   "metadata": {},
   "outputs": [
    {
     "name": "stdout",
     "output_type": "stream",
     "text": [
      "10\n"
     ]
    }
   ],
   "source": [
    "x = 10\n",
    "print(x)"
   ]
  },
  {
   "cell_type": "code",
   "execution_count": 29,
   "id": "071bd37d-b9b8-43c2-bd3f-8f8a9f9158f2",
   "metadata": {},
   "outputs": [
    {
     "name": "stdout",
     "output_type": "stream",
     "text": [
      "36\n"
     ]
    }
   ],
   "source": [
    "x = (x+2)*3\n",
    "print(x)"
   ]
  },
  {
   "cell_type": "code",
   "execution_count": 44,
   "id": "8cf13c49-929d-40a3-b24a-a64d9721b22b",
   "metadata": {},
   "outputs": [
    {
     "data": {
      "text/plain": [
       "7"
      ]
     },
     "execution_count": 44,
     "metadata": {},
     "output_type": "execute_result"
    }
   ],
   "source": [
    "str1 = \"Windows\"\n",
    "len(str1)"
   ]
  },
  {
   "cell_type": "code",
   "execution_count": 46,
   "id": "64634ccd-927b-41f9-a3ab-1cf498ab1cfa",
   "metadata": {},
   "outputs": [
    {
     "data": {
      "text/plain": [
       "5"
      ]
     },
     "execution_count": 46,
     "metadata": {},
     "output_type": "execute_result"
    }
   ],
   "source": [
    "str2 = \"Excel\"\n",
    "len(str2)"
   ]
  },
  {
   "cell_type": "code",
   "execution_count": 40,
   "id": "cfa77d47-2773-4cdc-a0ff-8940bba78e5b",
   "metadata": {},
   "outputs": [
    {
     "data": {
      "text/plain": [
       "10"
      ]
     },
     "execution_count": 40,
     "metadata": {},
     "output_type": "execute_result"
    }
   ],
   "source": [
    "str3 = \"Powerpoint\"\n",
    "len(str3)"
   ]
  },
  {
   "cell_type": "code",
   "execution_count": 42,
   "id": "84db4b8c-4cd8-4529-858f-2dafad5fe792",
   "metadata": {},
   "outputs": [
    {
     "data": {
      "text/plain": [
       "4"
      ]
     },
     "execution_count": 42,
     "metadata": {},
     "output_type": "execute_result"
    }
   ],
   "source": [
    "str4 = \"Word\"\n",
    "len(str4)"
   ]
  },
  {
   "cell_type": "code",
   "execution_count": 52,
   "id": "70d9f5bf-9cb5-4ee4-b255-bdd726f99272",
   "metadata": {},
   "outputs": [
    {
     "name": "stdout",
     "output_type": "stream",
     "text": [
      "3600\n"
     ]
    }
   ],
   "source": [
    "secondi_in_un_ora = 60 * 60\n",
    "print(secondi_in_un_ora)"
   ]
  },
  {
   "cell_type": "code",
   "execution_count": 54,
   "id": "c807836c-b91b-4926-b06e-105ba644e157",
   "metadata": {},
   "outputs": [
    {
     "name": "stdout",
     "output_type": "stream",
     "text": [
      "86400\n"
     ]
    }
   ],
   "source": [
    "secondi_giorno = secondi_in_un_ora * 24\n",
    "print(secondi_giorno)"
   ]
  },
  {
   "cell_type": "code",
   "execution_count": 56,
   "id": "9b6714b8-b472-48a1-8969-f75cc357ace6",
   "metadata": {},
   "outputs": [
    {
     "name": "stdout",
     "output_type": "stream",
     "text": [
      "31536000\n"
     ]
    }
   ],
   "source": [
    "secondi_anno = secondi_giorno * 365\n",
    "print(secondi_anno)"
   ]
  },
  {
   "cell_type": "code",
   "execution_count": 58,
   "id": "f9b16dcd-12a1-40c8-b79f-ee458a4dd07b",
   "metadata": {},
   "outputs": [],
   "source": [
    "my_string = \"I am studying Python\""
   ]
  },
  {
   "cell_type": "code",
   "execution_count": 66,
   "id": "f466357d-f41d-4540-93eb-20d76dad8d01",
   "metadata": {},
   "outputs": [
    {
     "data": {
      "text/plain": [
       "'I AM STUDYING PYTHON'"
      ]
     },
     "execution_count": 66,
     "metadata": {},
     "output_type": "execute_result"
    }
   ],
   "source": [
    "my_string.upper()"
   ]
  },
  {
   "cell_type": "code",
   "execution_count": 68,
   "id": "42c9e50d-77e8-43a7-bad5-d196ec5e3c77",
   "metadata": {},
   "outputs": [
    {
     "data": {
      "text/plain": [
       "'i am studying python'"
      ]
     },
     "execution_count": 68,
     "metadata": {},
     "output_type": "execute_result"
    }
   ],
   "source": [
    "my_string.lower()"
   ]
  },
  {
   "cell_type": "code",
   "execution_count": 80,
   "id": "56dbc8d1-00bf-4c04-a32d-c2a6d4479c23",
   "metadata": {},
   "outputs": [
    {
     "data": {
      "text/plain": [
       "'I am studying a lot'"
      ]
     },
     "execution_count": 80,
     "metadata": {},
     "output_type": "execute_result"
    }
   ],
   "source": [
    "my_string.replace(\"Python\", \"a lot\")"
   ]
  },
  {
   "cell_type": "code",
   "execution_count": 92,
   "id": "ec7ee66c-e257-4a8b-94de-7d2a38721eda",
   "metadata": {},
   "outputs": [
    {
     "data": {
      "text/plain": [
       "'I am studying Python'"
      ]
     },
     "execution_count": 92,
     "metadata": {},
     "output_type": "execute_result"
    }
   ],
   "source": [
    "my_string.strip()"
   ]
  },
  {
   "cell_type": "code",
   "execution_count": null,
   "id": "cc161a25-fa0b-4ed6-b964-f80778d0f6bf",
   "metadata": {},
   "outputs": [],
   "source": []
  }
 ],
 "metadata": {
  "kernelspec": {
   "display_name": "Python 3 (ipykernel)",
   "language": "python",
   "name": "python3"
  },
  "language_info": {
   "codemirror_mode": {
    "name": "ipython",
    "version": 3
   },
   "file_extension": ".py",
   "mimetype": "text/x-python",
   "name": "python",
   "nbconvert_exporter": "python",
   "pygments_lexer": "ipython3",
   "version": "3.12.4"
  }
 },
 "nbformat": 4,
 "nbformat_minor": 5
}
